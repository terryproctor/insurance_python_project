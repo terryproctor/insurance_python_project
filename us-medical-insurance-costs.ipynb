{
 "cells": [
  {
   "cell_type": "markdown",
   "metadata": {},
   "source": [
    "# U.S. Medical Insurance Costs"
   ]
  },
  {
   "cell_type": "markdown",
   "metadata": {},
   "source": [
    "Columns for insurance.csv are age, sex, bmi, children, smoker, region, charges\n",
    "Some are numerical [age, bmi, children, charges]\n",
    "Others are categorial\n",
    "\n",
    "What I'd like to find out is how the insurance preimiums vary by region? "
   ]
  },
  {
   "cell_type": "code",
   "execution_count": 57,
   "metadata": {},
   "outputs": [],
   "source": [
    "import csv"
   ]
  },
  {
   "cell_type": "code",
   "execution_count": 58,
   "metadata": {},
   "outputs": [],
   "source": [
    "ages = []\n",
    "sex = []\n",
    "bmi = []\n",
    "children = []\n",
    "smoker = []\n",
    "region = []\n",
    "charges = []"
   ]
  },
  {
   "cell_type": "code",
   "execution_count": 59,
   "metadata": {},
   "outputs": [],
   "source": [
    "with open('insurance.csv', 'r') as file:\n",
    "    insurance_dict = csv.DictReader(file)\n",
    "    for row in insurance_dict:\n",
    "        ages.append(int(row['age']))\n",
    "        sex.append(row['sex'])\n",
    "        bmi.append(float(row['bmi']))\n",
    "        children.append(int(row['children']))\n",
    "        smoker.append(row['smoker'])\n",
    "        region.append(row['region'])\n",
    "        charges.append(float(row['charges']))"
   ]
  },
  {
   "cell_type": "code",
   "execution_count": 60,
   "metadata": {},
   "outputs": [],
   "source": [
    "southwest = []\n",
    "southeast = []\n",
    "northwest = []\n",
    "northeast = []"
   ]
  },
  {
   "cell_type": "code",
   "execution_count": 61,
   "metadata": {},
   "outputs": [],
   "source": [
    "with open('insurance.csv', 'r') as file:\n",
    "    insurance_dict = csv.DictReader(file)\n",
    "    for row in insurance_dict:\n",
    "        if row['region'] == 'southwest':\n",
    "            southwest.append(row)\n",
    "        if row['region'] == 'northwest':\n",
    "            northwest.append(row)\n",
    "        if row['region'] == 'southeast':\n",
    "            southeast.append(row)\n",
    "        if row['region'] == 'northeast':\n",
    "            northeast.append(row)\n",
    "            "
   ]
  },
  {
   "cell_type": "code",
   "execution_count": 62,
   "metadata": {},
   "outputs": [],
   "source": [
    "def region_charge_avg(region):\n",
    "    total = 0\n",
    "    for row in region:\n",
    "        total += float(row['charges'])\n",
    "    return round((total / len(region)),2)"
   ]
  },
  {
   "cell_type": "code",
   "execution_count": 63,
   "metadata": {},
   "outputs": [
    {
     "name": "stdout",
     "output_type": "stream",
     "text": [
      "South East Average Charge: $14735.41\n"
     ]
    }
   ],
   "source": [
    "print(f\"South East Average Charge: ${region_charge_avg(southeast)}\")"
   ]
  },
  {
   "cell_type": "code",
   "execution_count": 64,
   "metadata": {},
   "outputs": [
    {
     "name": "stdout",
     "output_type": "stream",
     "text": [
      "South West Average Charge: $12346.94\n"
     ]
    }
   ],
   "source": [
    "print(f\"South West Average Charge: ${region_charge_avg(southwest)}\")"
   ]
  },
  {
   "cell_type": "code",
   "execution_count": 65,
   "metadata": {},
   "outputs": [
    {
     "name": "stdout",
     "output_type": "stream",
     "text": [
      "North West Average Charge: $12417.58\n"
     ]
    }
   ],
   "source": [
    "print(f\"North West Average Charge: ${region_charge_avg(northwest)}\")"
   ]
  },
  {
   "cell_type": "code",
   "execution_count": 66,
   "metadata": {},
   "outputs": [
    {
     "name": "stdout",
     "output_type": "stream",
     "text": [
      "North East Average Charge: $13406.38\n"
     ]
    }
   ],
   "source": [
    "print(f\"North East Average Charge: ${region_charge_avg(northeast)}\")"
   ]
  },
  {
   "cell_type": "markdown",
   "metadata": {},
   "source": [
    "Looking at the results above, it would suggest the riskiest region in the South Eastern states, and the safes"
   ]
  }
 ],
 "metadata": {
  "kernelspec": {
   "display_name": "Python 3",
   "language": "python",
   "name": "python3"
  },
  "language_info": {
   "codemirror_mode": {
    "name": "ipython",
    "version": 3
   },
   "file_extension": ".py",
   "mimetype": "text/x-python",
   "name": "python",
   "nbconvert_exporter": "python",
   "pygments_lexer": "ipython3",
   "version": "3.8.10"
  }
 },
 "nbformat": 4,
 "nbformat_minor": 4
}
