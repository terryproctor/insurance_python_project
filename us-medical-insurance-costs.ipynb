{
 "cells": [
  {
   "cell_type": "markdown",
   "metadata": {},
   "source": [
    "# U.S. Medical Insurance Costs"
   ]
  },
  {
   "cell_type": "markdown",
   "metadata": {},
   "source": [
    "Columns for insurance.csv are age, sex, bmi, children, smoker, region, charges\n",
    "Some are numerical [age, bmi, children, charges]\n",
    "Others are categorial\n",
    "\n",
    "What I'd like to find out is how the insurance preimiums vary by which state and what the main factors this are?"
   ]
  },
  {
   "cell_type": "code",
   "execution_count": 55,
   "metadata": {},
   "outputs": [],
   "source": [
    "import csv"
   ]
  },
  {
   "cell_type": "code",
   "execution_count": 56,
   "metadata": {},
   "outputs": [],
   "source": [
    "ages = []\n",
    "sex = []\n",
    "bmi = []\n",
    "children = []\n",
    "smoker = []\n",
    "region = []\n",
    "charges = []"
   ]
  },
  {
   "cell_type": "code",
   "execution_count": 57,
   "metadata": {},
   "outputs": [],
   "source": [
    "# read csv file and append to lists\n",
    "with open('insurance.csv') as csv_file:\n",
    "    insurance_reader = csv.reader(csv_file, delimiter=\",\")\n",
    "    for row in insurance_reader:\n",
    "        ages.append(row[0])\n",
    "        sex.append(row[1])\n",
    "        bmi.append(row[2])\n",
    "        children.append(row[3])\n",
    "        smoker.append(row[4])\n",
    "        region.append(row[5])\n",
    "        charges.append(row[6])\n",
    "        "
   ]
  },
  {
   "cell_type": "code",
   "execution_count": 58,
   "metadata": {},
   "outputs": [],
   "source": [
    "def remove_first(lst):\n",
    "    return lst[1:]"
   ]
  },
  {
   "cell_type": "code",
   "execution_count": 59,
   "metadata": {},
   "outputs": [],
   "source": [
    "# remove headers from lists\n",
    "ages = remove_first(ages)\n",
    "sex = remove_first(sex)\n",
    "bmi = remove_first(bmi)\n",
    "children = remove_first(children)\n",
    "smoker = remove_first(smoker)\n",
    "region = remove_first(region)\n",
    "charges = remove_first(charges)"
   ]
  },
  {
   "cell_type": "code",
   "execution_count": 62,
   "metadata": {},
   "outputs": [],
   "source": [
    "# change numerical data from strings to int/float values\n",
    "ages = [int(item) for item in ages]\n",
    "bmi = [float(item) for item in bmi]\n",
    "children = [int(item) for item in children]\n",
    "charges = [float(item) for item in charges]"
   ]
  },
  {
   "cell_type": "code",
   "execution_count": null,
   "metadata": {},
   "outputs": [],
   "source": []
  },
  {
   "cell_type": "code",
   "execution_count": 61,
   "metadata": {},
   "outputs": [
    {
     "name": "stdout",
     "output_type": "stream",
     "text": [
      "<class 'int'>\n"
     ]
    }
   ],
   "source": []
  },
  {
   "cell_type": "code",
   "execution_count": null,
   "metadata": {},
   "outputs": [],
   "source": []
  }
 ],
 "metadata": {
  "kernelspec": {
   "display_name": "Python 3",
   "language": "python",
   "name": "python3"
  },
  "language_info": {
   "codemirror_mode": {
    "name": "ipython",
    "version": 3
   },
   "file_extension": ".py",
   "mimetype": "text/x-python",
   "name": "python",
   "nbconvert_exporter": "python",
   "pygments_lexer": "ipython3",
   "version": "3.8.10"
  }
 },
 "nbformat": 4,
 "nbformat_minor": 4
}
